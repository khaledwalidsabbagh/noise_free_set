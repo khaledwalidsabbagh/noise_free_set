{
 "cells": [
  {
   "cell_type": "code",
   "execution_count": null,
   "metadata": {},
   "outputs": [],
   "source": [
    "from sklearn.metrics.pairwise import cosine_similarity\n",
    "import csv\n",
    "import pandas as pd\n",
    "from sklearn.ensemble import RandomForestClassifier\n",
    "from sklearn.model_selection import train_test_split\n",
    "from sklearn.metrics import accuracy_score\n",
    "from sklearn.metrics import precision_score\n",
    "from sklearn.metrics import recall_score\n",
    "from sklearn.metrics import matthews_corrcoef"
   ]
  },
  {
   "cell_type": "markdown",
   "metadata": {},
   "source": [
    "## Load the bag of word representation for code changes"
   ]
  },
  {
   "cell_type": "code",
   "execution_count": null,
   "metadata": {},
   "outputs": [],
   "source": [
    "BoW_set = pd.read_csv('path to the bag of words file/.csv', sep='$')"
   ]
  },
  {
   "cell_type": "markdown",
   "metadata": {},
   "source": [
    "## Randomly pick a vector from each class"
   ]
  },
  {
   "cell_type": "code",
   "execution_count": null,
   "metadata": {},
   "outputs": [],
   "source": [
    "baselin_vector_passed = BoW_set[(BoW_set['verdict'] == 1.0)].sample(n=1)\n",
    "baselin_vector_failed = BoW_set[(BoW_set['verdict'] == 0.0)].sample(n=1)"
   ]
  },
  {
   "cell_type": "markdown",
   "metadata": {},
   "source": [
    "## Use Cosine Similarity to find similar oriented vectors"
   ]
  },
  {
   "cell_type": "code",
   "execution_count": null,
   "metadata": {},
   "outputs": [],
   "source": [
    "passed_matches= merged_pd.apply(\n",
    "        lambda row: (cos_sim_vec(row, baselin_vector) >= 0.96 \n",
    "                     and row.verdict == 1.0), axis=1)\n",
    "\n",
    "failed_matches= merged_pd.apply(\n",
    "        lambda row: (cos_sim_vec(row, baselin_vector_failed) >= 0.96\n",
    "                     and row.verdict == 0.0), axis=1)\n",
    "\n",
    "passed_failed_vec = pd.concat([passed_vectors.reset_index(drop=True), \n",
    "                               failed_vectors.reset_index(drop=True)], \n",
    "                               axis=0)"
   ]
  },
  {
   "cell_type": "markdown",
   "metadata": {},
   "source": [
    "## Verify that the new set has no noise"
   ]
  },
  {
   "cell_type": "code",
   "execution_count": null,
   "metadata": {},
   "outputs": [],
   "source": [
    "x_train, x_test, y_train, y_test = train_test_split(passed_failed_vec.iloc[0:,0:2247], \n",
    "                                                    passed_failed_vec.verdict, \n",
    "                                                    test_size=0.2, \n",
    "                                                    random_state=100) \n",
    "\n",
    "forest= RandomForestClassifier(n_estimators=100, random_state=123)\n",
    "forest.fit(x_train, y_train)\n",
    "y_pred = forest.predict(x_test)"
   ]
  },
  {
   "cell_type": "code",
   "execution_count": null,
   "metadata": {},
   "outputs": [],
   "source": [
    "result = {}\n",
    "result['test_accuracy'] = accuracy_score(y_test, y_pred)\n",
    "result['test_precision'] = precision_score(y_test, y_pred)\n",
    "result['test_recall'] = recall_score(y_test, y_pred)\n",
    "result['test_f1'] = f1_score(y_test, y_pred)\n",
    "result['test_mcc'] = matthews_corrcoef(y_test, y_pred)\n",
    "\n",
    "result"
   ]
  }
 ],
 "metadata": {
  "kernelspec": {
   "display_name": "Python 3",
   "language": "python",
   "name": "python3"
  },
  "language_info": {
   "codemirror_mode": {
    "name": "ipython",
    "version": 3
   },
   "file_extension": ".py",
   "mimetype": "text/x-python",
   "name": "python",
   "nbconvert_exporter": "python",
   "pygments_lexer": "ipython3",
   "version": "3.7.2"
  }
 },
 "nbformat": 4,
 "nbformat_minor": 2
}
